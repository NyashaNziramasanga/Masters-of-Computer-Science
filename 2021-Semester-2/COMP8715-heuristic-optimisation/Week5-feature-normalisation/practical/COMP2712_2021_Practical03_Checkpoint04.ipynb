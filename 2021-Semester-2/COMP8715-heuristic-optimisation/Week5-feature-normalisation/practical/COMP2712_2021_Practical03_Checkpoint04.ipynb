{
  "nbformat": 4,
  "nbformat_minor": 0,
  "metadata": {
    "colab": {
      "name": "COMP2712_2021_Practical03_Checkpoint04",
      "provenance": [],
      "collapsed_sections": [],
      "toc_visible": true,
      "include_colab_link": true
    },
    "kernelspec": {
      "name": "python3",
      "display_name": "Python 3"
    },
    "accelerator": "GPU"
  },
  "cells": [
    {
      "cell_type": "markdown",
      "metadata": {
        "id": "view-in-github",
        "colab_type": "text"
      },
      "source": [
        "<a href=\"https://colab.research.google.com/github/NyashaNziramasanga/Masters-of-Computer-Science/blob/master/2021-Semester-2/COMP8715-heuristic-optimisation/Week5-feature-normalisation/practical/COMP2712_2021_Practical03_Checkpoint04.ipynb\" target=\"_parent\"><img src=\"https://colab.research.google.com/assets/colab-badge.svg\" alt=\"Open In Colab\"/></a>"
      ]
    },
    {
      "cell_type": "markdown",
      "metadata": {
        "id": "WbjA-8fkBsVr"
      },
      "source": [
        "# COMP2712 Practical03, Checkpoint04: Digits with Keras and Activation Functions\n",
        "\n",
        "This example walks through classifying digits from the MNIST digit data set.  It introduces and uses the TensorFlow and Keras machine learning modules (instead of the sckit-learn) but only looks at classifying with 'shallow', MLP-like networks.\n",
        "\n",
        "The prac explores the use of different **activiation functions**.\n",
        "\n",
        "Adapted from this most excellent machine learning tutorial: [Deep Learning Basics](https://colab.research.google.com/github/lexfridman/mit-deep-learning/blob/master/tutorial_deep_learning_basics/deep_learning_basics.ipynb)"
      ]
    },
    {
      "cell_type": "markdown",
      "metadata": {
        "id": "ni70jZkAutO4"
      },
      "source": [
        "## Getting Ready"
      ]
    },
    {
      "cell_type": "markdown",
      "metadata": {
        "id": "FBPwXmWGPCJ7"
      },
      "source": [
        "### Install a module for multi-class bookmaker"
      ]
    },
    {
      "cell_type": "code",
      "metadata": {
        "id": "0En3_ylY2LOP",
        "colab": {
          "base_uri": "https://localhost:8080/"
        },
        "outputId": "77578fea-fb66-4fa3-efb6-d0f50efa0ac0"
      },
      "source": [
        "!pip install pycm"
      ],
      "execution_count": null,
      "outputs": [
        {
          "output_type": "stream",
          "text": [
            "Requirement already satisfied: pycm in /usr/local/lib/python3.7/dist-packages (3.2)\n",
            "Requirement already satisfied: art>=1.8 in /usr/local/lib/python3.7/dist-packages (from pycm) (5.2)\n",
            "Requirement already satisfied: numpy>=1.9.0 in /usr/local/lib/python3.7/dist-packages (from pycm) (1.19.5)\n"
          ],
          "name": "stdout"
        }
      ]
    },
    {
      "cell_type": "markdown",
      "metadata": {
        "id": "HmxJqBPdB-as"
      },
      "source": [
        "### Load some modules\n",
        "- [tensorflow](https://www.tensorflow.org/): TensorFlow is an end-to-end open source platform for machine learning.\n",
        "- [tensorflow.keras](https://www.tensorflow.org/guide/keras):TensorFlow's high-level API for building and training deep learning models. \n",
        "\n",
        "and we have seen the other modules before\n",
        "\n",
        "- [numpy](https://numpy.org/): is the fundamental package for scientific computing with Python\n",
        "- [pandas](https://pandas.pydata.org/): a fast, powerful, flexible and easy to use open source data analysis and manipulation tool\n",
        "- [maplotlib](https://matplotlib.org/): a comprehensive library for creating static, animated, and interactive visualizations in Python\n",
        "- [seaborn](https://seaborn.pydata.org/) : Seaborn is a Python data visualization library based on matplotlib. \n",
        "- [sklearn](https://scikit-learn.org/): an open source machine learning library that supports supervised and unsupervised learning. \n"
      ]
    },
    {
      "cell_type": "code",
      "metadata": {
        "id": "M7g5Lm7eAIzJ"
      },
      "source": [
        "# TensorFlow and tf.keras\n",
        "import tensorflow as tf\n",
        "from tensorflow import keras\n",
        "from tensorflow.keras.layers import Dense\n",
        "\n",
        "# Commonly used modules\n",
        "import numpy as np\n",
        "import os\n",
        "import sys\n",
        "\n",
        "# Images, plots, display, and visualization\n",
        "import matplotlib.pyplot as plt\n",
        "import pandas as pd\n",
        "import seaborn as sns\n",
        "\n",
        "#scikit for machine learning reporting\n",
        "from sklearn.metrics import mean_squared_error \n",
        "from sklearn.metrics import classification_report\n",
        "from sklearn.metrics import confusion_matrix\n",
        "from sklearn.metrics import accuracy_score\n",
        "from sklearn.metrics import f1_score\n",
        "\n",
        "import pycm\n",
        "\n",
        "# timing\n",
        "import time"
      ],
      "execution_count": null,
      "outputs": []
    },
    {
      "cell_type": "code",
      "metadata": {
        "id": "2mZs3uYqTY3J",
        "colab": {
          "base_uri": "https://localhost:8080/"
        },
        "outputId": "dd674791-44eb-414a-f9ae-0baebbb067d7"
      },
      "source": [
        "print(tf.__version__)"
      ],
      "execution_count": null,
      "outputs": [
        {
          "output_type": "stream",
          "text": [
            "2.6.0\n"
          ],
          "name": "stdout"
        }
      ]
    },
    {
      "cell_type": "markdown",
      "metadata": {
        "id": "WLwPscTdCuYx"
      },
      "source": [
        "### Load the MNIST digit data\n",
        "\n",
        "The [MNIST dataset](http://yann.lecun.com/exdb/mnist/) contains 70,000 grayscale images of handwritten digits at a resolution of 28 by 28 pixels."
      ]
    },
    {
      "cell_type": "code",
      "metadata": {
        "id": "Vn89yOOACtG1"
      },
      "source": [
        "(train_images, train_labels), (test_images, test_labels) = keras.datasets.mnist.load_data()\n",
        "\n",
        "# reshape images to specify that it's a single channel\n",
        "train_images = train_images.reshape(train_images.shape[0], 28, 28, 1)\n",
        "test_images = test_images.reshape(test_images.shape[0], 28, 28, 1)"
      ],
      "execution_count": null,
      "outputs": []
    },
    {
      "cell_type": "code",
      "metadata": {
        "id": "Rjlm9olnDb3a",
        "colab": {
          "base_uri": "https://localhost:8080/"
        },
        "outputId": "ee43a445-08c8-4e6f-f638-9b6034546e89"
      },
      "source": [
        "np.shape(train_images)"
      ],
      "execution_count": null,
      "outputs": [
        {
          "output_type": "execute_result",
          "data": {
            "text/plain": [
              "(60000, 28, 28, 1)"
            ]
          },
          "metadata": {},
          "execution_count": 68
        }
      ]
    },
    {
      "cell_type": "code",
      "metadata": {
        "id": "-32bfxjRDeNm",
        "colab": {
          "base_uri": "https://localhost:8080/"
        },
        "outputId": "c87d6853-a2ce-444c-d6ce-daa6d3222401"
      },
      "source": [
        "def preprocess_images(imgs): # should work for both a single image and multiple images\n",
        "    sample_img = imgs if len(imgs.shape) == 2 else imgs[0]\n",
        "    assert sample_img.shape in [(28, 28, 1), (28, 28)], sample_img.shape # make sure images are 28x28 and single-channel (grayscale)\n",
        "    return imgs / 255.0\n",
        "\n",
        "train_images = preprocess_images(train_images)\n",
        "test_images = preprocess_images(test_images)\n",
        "\n",
        "print('training shape: {0}'.format(np.shape(train_images)))\n",
        "print('testing shape: {0}'.format(np.shape(test_images)))"
      ],
      "execution_count": null,
      "outputs": [
        {
          "output_type": "stream",
          "text": [
            "training shape: (60000, 28, 28, 1)\n",
            "testing shape: (10000, 28, 28, 1)\n"
          ],
          "name": "stdout"
        }
      ]
    },
    {
      "cell_type": "markdown",
      "metadata": {
        "id": "N6_Lf22BHMu0"
      },
      "source": [
        "### View the image data (sanity check)"
      ]
    },
    {
      "cell_type": "code",
      "metadata": {
        "id": "n121HK2THHRe",
        "colab": {
          "base_uri": "https://localhost:8080/",
          "height": 141
        },
        "outputId": "c6571808-1c7b-4e3c-b398-81fdeffb2ca4"
      },
      "source": [
        "plt.figure(figsize=(10,2))\n",
        "for i in range(5):\n",
        "    plt.subplot(1,5,i+1)\n",
        "    plt.xticks([])\n",
        "    plt.yticks([])\n",
        "    plt.grid(False)\n",
        "    image_idx = np.random.randint(0,train_images.shape[0])\n",
        "    plt.imshow(train_images[image_idx].reshape(28, 28), cmap=plt.cm.binary)\n",
        "    plt.xlabel(train_labels[image_idx])"
      ],
      "execution_count": null,
      "outputs": [
        {
          "output_type": "display_data",
          "data": {
            "image/png": "[encoded data removed]",
            "text/plain": [
              "<Figure size 720x144 with 5 Axes>"
            ]
          },
          "metadata": {}
        }
      ]
    },
    {
      "cell_type": "markdown",
      "metadata": {
        "id": "WmInEHYRFK0H"
      },
      "source": [
        "### Flatten the image data from 2D to 1D\n",
        "\n",
        "Many classifier cannot handle the 2D (or more) dimensional strucutre of images.  We can \"flatten\" the data to 1D by stacking or reshaping the 2D into 1D.  For example, If the image dimesion is 28x28 this will convert into a 28 * 28 = 784 single dimension feature vector."
      ]
    },
    {
      "cell_type": "code",
      "metadata": {
        "id": "ecG71yHrExN7",
        "colab": {
          "base_uri": "https://localhost:8080/"
        },
        "outputId": "3fed69e1-9f35-428b-8e1a-23a83ca87d0c"
      },
      "source": [
        "print('shape of the train_images: {0}'.format(train_images.shape))\n",
        "n_samples = len(train_images)\n",
        "train_images_flatten = train_images.reshape((n_samples, -1))\n",
        "print('shape of the train_images_flatten: {0}'.format(train_images_flatten.shape))\n",
        "\n",
        "print('shape of the test_images: {0}'.format(test_images.shape))\n",
        "n_samples = len(test_images)\n",
        "test_images_flatten = test_images.reshape((n_samples, -1))\n",
        "print('shape of the test_images_flatten: {0}'.format(test_images_flatten.shape))"
      ],
      "execution_count": null,
      "outputs": [
        {
          "output_type": "stream",
          "text": [
            "shape of the train_images: (60000, 28, 28, 1)\n",
            "shape of the train_images_flatten: (60000, 784)\n",
            "shape of the test_images: (10000, 28, 28, 1)\n",
            "shape of the test_images_flatten: (10000, 784)\n"
          ],
          "name": "stdout"
        }
      ]
    },
    {
      "cell_type": "markdown",
      "metadata": {
        "id": "-U0OQeznGiAa"
      },
      "source": [
        "### Target Data\n",
        "\n",
        "The target data is essentially in an integer encoding.  Let's make a One Hot encoding as well."
      ]
    },
    {
      "cell_type": "code",
      "metadata": {
        "id": "U6fI6YvHGKx4",
        "colab": {
          "base_uri": "https://localhost:8080/"
        },
        "outputId": "f75718fd-acf7-449d-f21a-bed97a60d559"
      },
      "source": [
        "print('shape of train_labels: {}',format(np.shape(train_labels)))\n",
        "print('unique values of train_labels: {}'.format(np.unique(train_labels)))\n",
        "\n",
        "# one hot encoding - much easier using keras!\n",
        "train_labels_oh = tf.keras.utils.to_categorical(train_labels)\n",
        "test_labels_oh = tf.keras.utils.to_categorical(test_labels)\n",
        "\n",
        "print('shape of train_labels_oh: {}'.format(np.shape(train_labels_oh)))\n",
        "print('value of train_labels_oh[1,:]: {} => {}'.format(train_labels_oh[1,:],train_labels[1]))\n",
        "label_idx = np.random.randint(0,train_labels_oh.shape[0])\n",
        "print('value of train_labels_oh[{},:]: {} => {}'.format(label_idx, train_labels_oh[label_idx,:],train_labels[label_idx]))"
      ],
      "execution_count": null,
      "outputs": [
        {
          "output_type": "stream",
          "text": [
            "shape of train_labels: {} (60000,)\n",
            "unique values of train_labels: [0 1 2 3 4 5 6 7 8 9]\n",
            "shape of train_labels_oh: (60000, 10)\n",
            "value of train_labels_oh[1,:]: [1. 0. 0. 0. 0. 0. 0. 0. 0. 0.] => 0\n",
            "value of train_labels_oh[47540,:]: [0. 0. 0. 0. 0. 0. 0. 0. 0. 1.] => 9\n"
          ],
          "name": "stdout"
        }
      ]
    },
    {
      "cell_type": "markdown",
      "metadata": {
        "id": "qwUlCEb8KBYf"
      },
      "source": [
        "## Classification of MNIST with Single Hidden Layer\n",
        "Let's start \"easy\" with a single hidden layer like an MLP but using the Tensor and Keras modules."
      ]
    },
    {
      "cell_type": "markdown",
      "metadata": {
        "id": "XT6ZEtzIJzE9"
      },
      "source": [
        "### Build the model\n",
        "\n",
        "Building the neural network requires configuring the layers of the model, then compiling the model. First we stack a few layers together using `keras.Sequential`. Next we configure the loss function, optimizer, and metrics to monitor. These are added during the model's compile step:\n",
        "\n",
        "* *Loss function* - measures how accurate the model is during training, we want to minimize this with the optimizer.\n",
        "* *Optimizer* - how the model is updated based on the data it sees and its loss function.\n",
        "* *Metrics* - used to monitor the training and testing steps.\n",
        "\n",
        "Let's build a network with **1 hidden layer of 5 neurons**, and use categorical_crossentropy as the loss function (most common one for classfication problems):"
      ]
    },
    {
      "cell_type": "code",
      "metadata": {
        "id": "AYAt2yRKGdNK"
      },
      "source": [
        "def build_simple_model(activation='relu',number_hidden_nodes=5):\n",
        "\n",
        "    number_of_features = len(train_images_flatten[0])\n",
        "    number_of_output = len(train_labels_oh[0])\n",
        "    print('Number of input features: {}'.format(number_of_features))\n",
        "    print('Number of hidden nodes: {}'.format(number_hidden_nodes))\n",
        "    print('Activation Function on hidden layer: {}'.format(activation))\n",
        "    print('Number of out classes: {}'.format(number_of_output))\n",
        "\n",
        "    model = keras.Sequential([\n",
        "        Dense(number_hidden_nodes, activation=activation, input_shape=[number_of_features]),\n",
        "        Dense(number_of_output, activation=tf.nn.sigmoid)\n",
        "    ])\n",
        "\n",
        "    model.compile(optimizer=tf.optimizers.Adam(),\n",
        "                  loss=keras.losses.categorical_crossentropy,\n",
        "                  metrics=keras.metrics.categorical_crossentropy)\n",
        "    return model\n"
      ],
      "execution_count": null,
      "outputs": []
    },
    {
      "cell_type": "markdown",
      "metadata": {
        "id": "QC6ao_5wJ9nH"
      },
      "source": [
        "### Checkpoint04: Train the model with different acitvation functions\n",
        "\n",
        "Training the neural network model requires the following steps:\n",
        "\n",
        "1. Feed the training data to the model—in this example, the `train_images_flatten` and `train_labels_oh` arrays.\n",
        "2. The model learns to associate features and labels.\n",
        "3. We ask the model to make predictions about a test set—in this example, the `test_features_flatten` array. We verify that the predictions match the labels from the `test_labels_oh` array. \n",
        "\n",
        "We can adjust the activation (or transfer) function of the hidden layer by passing a different value for activation.  See here for a list of different activation functions for keras models:\n",
        "https://keras.io/api/layers/activations/\n",
        "\n",
        "To start training,  call the `model.fit` method—the model is \"fit\" to the training data:"
      ]
    },
    {
      "cell_type": "code",
      "metadata": {
        "id": "k_-r8EyvJ5Yu",
        "colab": {
          "base_uri": "https://localhost:8080/"
        },
        "outputId": "27a2af99-4af3-4906-e920-1bd413f6a20e"
      },
      "source": [
        "# Checkpoint04: Experiment with different activation functions\n",
        "activation = 'sigmoid' # select from [None, 'sigmoid', 'tanh', 'relu']:\n",
        "number_hidden_nodes = 5\n",
        "\n",
        "# build the model\n",
        "model = build_simple_model(activation=activation,number_hidden_nodes=number_hidden_nodes)\n",
        "\n",
        "# train the model and time how long it takes\n",
        "no_epochs = 5\n",
        "print('Training with {0} for {1}'.format(activation, no_epochs))\n",
        "tic = time.perf_counter()\n",
        "history = model.fit(train_images_flatten, train_labels_oh, epochs=no_epochs, verbose=1)\n",
        "toc = time.perf_counter()\n",
        "elapsed_time = toc - tic\n",
        "print('\\nTraining took {:0.4f} seconds'.format(elapsed_time))\n",
        "\n",
        "\n",
        "# eval the model (on training data)\n",
        "hist = pd.DataFrame(history.history)\n",
        "hist['epoch'] = history.epoch\n",
        "\n",
        "loss_final = np.sqrt(float(hist['loss'].tail(1)))\n",
        "print()\n",
        "print('Final Loss on training set: {}'.format(round(loss_final, 3)))"
      ],
      "execution_count": null,
      "outputs": [
        {
          "output_type": "stream",
          "text": [
            "Number of input features: 784\n",
            "Number of hidden nodes: 5\n",
            "Activation Function on hidden layer: sigmoid\n",
            "Number of out classes: 10\n",
            "Training with sigmoid for 5\n",
            "Epoch 1/5\n",
            "1875/1875 [==============================] - 5s 2ms/step - loss: 1.6703 - categorical_crossentropy: 1.6703\n",
            "Epoch 2/5\n",
            "1875/1875 [==============================] - 4s 2ms/step - loss: 1.0577 - categorical_crossentropy: 1.0577\n",
            "Epoch 3/5\n",
            "1875/1875 [==============================] - 4s 2ms/step - loss: 0.8365 - categorical_crossentropy: 0.8365\n",
            "Epoch 4/5\n",
            "1875/1875 [==============================] - 4s 2ms/step - loss: 0.7269 - categorical_crossentropy: 0.7269\n",
            "Epoch 5/5\n",
            "1875/1875 [==============================] - 4s 2ms/step - loss: 0.6680 - categorical_crossentropy: 0.6680\n",
            "\n",
            "Training took 22.2002 seconds\n",
            "\n",
            "Final Loss on training set: 0.817\n"
          ],
          "name": "stdout"
        }
      ]
    },
    {
      "cell_type": "code",
      "metadata": {
        "id": "nonhXuCTUdOm",
        "colab": {
          "base_uri": "https://localhost:8080/",
          "height": 111
        },
        "outputId": "8308d1f8-6317-4067-f83c-0d0889710e2b"
      },
      "source": [
        "hist"
      ],
      "execution_count": null,
      "outputs": [
        {
          "output_type": "execute_result",
          "data": {
            "text/html": [
              "<div>\n",
              "<style scoped>\n",
              "    .dataframe tbody tr th:only-of-type {\n",
              "        vertical-align: middle;\n",
              "    }\n",
              "\n",
              "    .dataframe tbody tr th {\n",
              "        vertical-align: top;\n",
              "    }\n",
              "\n",
              "    .dataframe thead th {\n",
              "        text-align: right;\n",
              "    }\n",
              "</style>\n",
              "<table border=\"1\" class=\"dataframe\">\n",
              "  <thead>\n",
              "    <tr style=\"text-align: right;\">\n",
              "      <th></th>\n",
              "      <th>loss</th>\n",
              "      <th>categorical_crossentropy</th>\n",
              "      <th>epoch</th>\n",
              "    </tr>\n",
              "  </thead>\n",
              "  <tbody>\n",
              "    <tr>\n",
              "      <th>0</th>\n",
              "      <td>1.625984</td>\n",
              "      <td>1.625984</td>\n",
              "      <td>0</td>\n",
              "    </tr>\n",
              "    <tr>\n",
              "      <th>1</th>\n",
              "      <td>0.990936</td>\n",
              "      <td>0.990936</td>\n",
              "      <td>1</td>\n",
              "    </tr>\n",
              "  </tbody>\n",
              "</table>\n",
              "</div>"
            ],
            "text/plain": [
              "       loss  categorical_crossentropy  epoch\n",
              "0  1.625984                  1.625984      0\n",
              "1  0.990936                  0.990936      1"
            ]
          },
          "metadata": {},
          "execution_count": 117
        }
      ]
    },
    {
      "cell_type": "code",
      "metadata": {
        "id": "QLdMoBS8PFnQ",
        "colab": {
          "base_uri": "https://localhost:8080/",
          "height": 279
        },
        "outputId": "5b24cc47-7b83-4032-8728-86de9f84d0eb"
      },
      "source": [
        "def plot_history():\n",
        "    plt.figure()\n",
        "    plt.xlabel('Epoch')\n",
        "    plt.ylabel('Loss')\n",
        "    plt.plot(hist['epoch'], hist['loss'], label='Train Loss')\n",
        "    plt.legend()\n",
        "\n",
        "plot_history()"
      ],
      "execution_count": null,
      "outputs": [
        {
          "output_type": "display_data",
          "data": {
            "image/png": "[encoded data removed]",
            "text/plain": [
              "<Figure size 432x288 with 1 Axes>"
            ]
          },
          "metadata": {
            "needs_background": "light"
          }
        }
      ]
    },
    {
      "cell_type": "markdown",
      "metadata": {
        "id": "LkhHUUm1XihY"
      },
      "source": [
        "### Test Performance\n",
        "Next, compare how the model performs on the test dataset:"
      ]
    },
    {
      "cell_type": "code",
      "metadata": {
        "id": "xI-59CmXXl9r",
        "colab": {
          "base_uri": "https://localhost:8080/"
        },
        "outputId": "b616cdc5-d994-46bd-eb8f-a9edf5b5536f"
      },
      "source": [
        "[loss, crossent] = model.evaluate(test_images_flatten, test_labels_oh)\n",
        "print('Loss on test set: {}'.format(round(loss, 3)))\n",
        "\n",
        "# Calculat all the predictions on the test set\n",
        "y_pred_real = model.predict(test_images_flatten)\n",
        "y_pred = np.argmax(y_pred_real, axis=-1)\n",
        "\n",
        "\n",
        "label_idx = np.random.randint(0,test_labels_oh.shape[0])\n",
        "print('random instance: {}, pred: {}, actual: {}'.format(label_idx,y_pred[label_idx],test_labels[label_idx]))\n"
      ],
      "execution_count": null,
      "outputs": [
        {
          "output_type": "stream",
          "text": [
            "313/313 [==============================] - 1s 2ms/step - loss: 0.4267 - categorical_crossentropy: 0.4267\n",
            "Loss on test set: 0.427\n",
            "random instance: 719, pred: 4, actual: 4\n"
          ],
          "name": "stdout"
        }
      ]
    },
    {
      "cell_type": "markdown",
      "metadata": {
        "id": "BM9tt6PCgmUK"
      },
      "source": [
        "Run the below cell multiple times to see different, random predictions"
      ]
    },
    {
      "cell_type": "code",
      "metadata": {
        "id": "0nBJzndiZe1k",
        "colab": {
          "base_uri": "https://localhost:8080/",
          "height": 205
        },
        "outputId": "18cf4ee9-96b0-427e-9d27-b86801dc26cb"
      },
      "source": [
        "plt.figure(figsize=(15,5))\n",
        "for i in range(5):\n",
        "    plt.subplot(1,5,i+1)\n",
        "    plt.xticks([])\n",
        "    plt.yticks([])\n",
        "    plt.grid(False)\n",
        "    image_idx = np.random.randint(0,test_images.shape[0])\n",
        "    plt.imshow(test_images[image_idx].reshape(28, 28), cmap=plt.cm.binary)\n",
        "    plt.xlabel('pred: {}, actual: {}'.format(y_pred[image_idx],test_labels[image_idx]))\n",
        "    plt.title('instance: {}'.format(image_idx))"
      ],
      "execution_count": null,
      "outputs": [
        {
          "output_type": "display_data",
          "data": {
            "image/png": "[encoded data removed]",
            "text/plain": [
              "<Figure size 1080x360 with 5 Axes>"
            ]
          },
          "metadata": {}
        }
      ]
    },
    {
      "cell_type": "markdown",
      "metadata": {
        "id": "l3HM543mhYgY"
      },
      "source": [
        "\n",
        "View the statistics on the classifier performance on the test set."
      ]
    },
    {
      "cell_type": "code",
      "metadata": {
        "id": "kZOEhjOXb-bQ",
        "colab": {
          "base_uri": "https://localhost:8080/",
          "height": 1000
        },
        "outputId": "46aef74d-afe1-4e0d-f47e-01fbd46f73fa"
      },
      "source": [
        "def bookmaker(test_labels, y_pred):\n",
        "  # calculate bm over classes using the pycm library\n",
        "  cm = pycm.ConfusionMatrix(actual_vector=test_labels,predict_vector=y_pred)\n",
        "  bmclass = list(cm.BM.values())\n",
        "\n",
        "  # now calculate bias and the overall bookmaker\n",
        "  cm = confusion_matrix(test_labels, y_pred)\n",
        "  bias = np.sum(cm,axis=0) / np.sum(cm)\n",
        "\n",
        "  bm = np.sum(bmclass*bias)\n",
        "  \n",
        "  return bm, bmclass\n",
        "\n",
        "cr = classification_report(test_labels,y_pred)\n",
        "print(cr)\n",
        "f1 = f1_score(test_labels, y_pred,average='weighted')\n",
        "\n",
        "print('f1 score: {:.3f}'.format(f1))\n",
        "\n",
        "print('Bookmaker Informedness')\n",
        "bm, bmclass = bookmaker(test_labels, y_pred)\n",
        "print('Bookmaker: {:.3f}'.format(bm))\n",
        "print('Per Class: {}'.format(bmclass))\n",
        "\n",
        "# Produce a Confusion Matrix to visualise more easily where errors and confusion occur in the classification of the digits.\n",
        "cm = confusion_matrix(test_labels, y_pred)\n",
        "print()\n",
        "print(cm)\n",
        "\n",
        "class_labels = np.unique(test_labels);\n",
        "df_cm = pd.DataFrame(cm, columns=class_labels, index=class_labels)\n",
        "fig, ax1 = plt.subplots(1,1, figsize=(10,10))\n",
        "sns.heatmap(df_cm, annot=True, ax=ax1,square=True,  cmap=\"YlGnBu\",vmin=0,vmax=50,fmt='d')\n",
        "ax1.set_title('bm: {:.3f} with {} {} neurons for {} epochs'.format(bm,number_hidden_nodes,activation,no_epochs) )\n",
        "ax1.set_xlabel('predicted')\n",
        "ax1.set_ylabel('actual');"
      ],
      "execution_count": null,
      "outputs": [
        {
          "output_type": "stream",
          "text": [
            "              precision    recall  f1-score   support\n",
            "\n",
            "           0       0.90      0.98      0.94       980\n",
            "           1       0.95      0.97      0.96      1135\n",
            "           2       0.90      0.88      0.89      1032\n",
            "           3       0.87      0.81      0.84      1010\n",
            "           4       0.86      0.87      0.87       982\n",
            "           5       0.80      0.76      0.78       892\n",
            "           6       0.85      0.89      0.87       958\n",
            "           7       0.91      0.89      0.90      1028\n",
            "           8       0.86      0.83      0.84       974\n",
            "           9       0.85      0.86      0.85      1009\n",
            "\n",
            "    accuracy                           0.88     10000\n",
            "   macro avg       0.87      0.87      0.87     10000\n",
            "weighted avg       0.88      0.88      0.88     10000\n",
            "\n",
            "f1 score: 0.877\n",
            "Bookmaker Informedness\n",
            "Bookmaker: 0.866\n",
            "Per Class: [0.9691931761618173, 0.968357968648673, 0.8722356492334502, 0.7948953182303771, 0.8571842510950041, 0.743776722183819, 0.8726529732046091, 0.8779896296476197, 0.8109483850214143, 0.8455465706869738]\n",
            "\n",
            "[[ 961    0    1    1    1   11    2    2    1    0]\n",
            " [   0 1106    3    4    0    2    4    1   14    1]\n",
            " [  15    9  912   14   15   19   14   14   17    3]\n",
            " [   2    8   38  817    1   70    2   24   39    9]\n",
            " [   2    4    3    0  857    0   26   10   10   70]\n",
            " [  37    1    7   61    6  680   60    7   20   13]\n",
            " [  19    3   13    0   32   25  852    2   12    0]\n",
            " [   5   12   22   12    8    1    0  913    5   50]\n",
            " [   8    9   15   27    9   38   43    8  804   13]\n",
            " [  15    8    1    7   68    3    0   23   13  871]]\n"
          ],
          "name": "stdout"
        },
        {
          "output_type": "display_data",
          "data": {
            "image/png": "[encoded data removed]",
            "text/plain": [
              "<Figure size 720x720 with 2 Axes>"
            ]
          },
          "metadata": {
            "needs_background": "light"
          }
        }
      ]
    }
  ]
}